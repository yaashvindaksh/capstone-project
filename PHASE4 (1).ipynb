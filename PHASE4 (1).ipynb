{
 "cells": [
  {
   "cell_type": "code",
   "execution_count": 5,
   "id": "90d612fb",
   "metadata": {},
   "outputs": [],
   "source": [
    "import numpy as np\n",
    "import pandas as pd\n",
    "import matplotlib.pyplot as plt\n",
    "import seaborn as sns\n",
    "\n",
    "\n",
    "import plotly\n",
    "import plotly.express as px\n",
    "\n",
    "import plotly.graph_objects as go\n",
    "import plotly.offline as pyo\n",
    "from plotly.offline import init_notebook_mode\n",
    "\n",
    "from sklearn.preprocessing import StandardScaler\n",
    "\n",
    "from sklearn.cluster import KMeans\n",
    "\n",
    "import warnings\n",
    "warnings.filterwarnings('ignore')"
   ]
  },
  {
   "cell_type": "code",
   "execution_count": 12,
   "id": "eda70108",
   "metadata": {},
   "outputs": [],
   "source": [
    "df1=pd.read_csv(r\"C:\\Users\\DELL\\Downloads\\population_literacy_Area2001to2011.csv\")\n",
    "df2=pd.read_csv(r\"C:\\Users\\DELL\\Downloads\\42_District_wise_crimes_committed_against_women_2001_2012.csv\")\n",
    "df3=pd.read_csv(r\"C:\\Users\\DELL\\Downloads\\03_District_wise_crimes_committed_against_children_2001_2012.csv\") \n",
    "df4=pd.read_csv(r\"C:\\Users\\DELL\\Downloads\\02_01_District_wise_crimes_committed_against_SC_2001_2012.csv\")\n",
    "df5=pd.read_csv(r\"C:\\Users\\DELL\\Downloads\\02_District_wise_crimes_committed_against_ST_2001_2012.csv\")"
   ]
  },
  {
   "cell_type": "code",
   "execution_count": 10,
   "id": "3e984e1d",
   "metadata": {},
   "outputs": [
    {
     "ename": "SyntaxError",
     "evalue": "unexpected EOF while parsing (126774777.py, line 1)",
     "output_type": "error",
     "traceback": [
      "\u001b[1;36m  File \u001b[1;32m\"C:\\Users\\DELL\\AppData\\Local\\Temp\\ipykernel_22476\\126774777.py\"\u001b[1;36m, line \u001b[1;32m1\u001b[0m\n\u001b[1;33m    df=pd.concat([df1,df2['42 District wise crimes committed gainst women 2001 2012'],df3['Total crimes against children'],df4['Total crimes against SCs'],df\u001b[0m\n\u001b[1;37m                                                                                                                                                             ^\u001b[0m\n\u001b[1;31mSyntaxError\u001b[0m\u001b[1;31m:\u001b[0m unexpected EOF while parsing\n"
     ]
    }
   ],
   "source": [
    "df=pd.concat([df1,df2['Total crimes against women'],df3['Total crimes against children'],df4['Total crimes against SCs'],df"
   ]
  },
  {
   "cell_type": "code",
   "execution_count": 13,
   "id": "6213aa66",
   "metadata": {},
   "outputs": [
    {
     "ename": "NameError",
     "evalue": "name 'df' is not defined",
     "output_type": "error",
     "traceback": [
      "\u001b[1;31m---------------------------------------------------------------------------\u001b[0m",
      "\u001b[1;31mNameError\u001b[0m                                 Traceback (most recent call last)",
      "\u001b[1;32m~\\AppData\\Local\\Temp\\ipykernel_22476\\3329434682.py\u001b[0m in \u001b[0;36m<module>\u001b[1;34m\u001b[0m\n\u001b[1;32m----> 1\u001b[1;33m \u001b[0mprint\u001b[0m\u001b[1;33m(\u001b[0m\u001b[1;34m\"We have {} Rows and {} Columns in our dataframe\"\u001b[0m\u001b[1;33m.\u001b[0m\u001b[0mformat\u001b[0m\u001b[1;33m(\u001b[0m\u001b[0mdf\u001b[0m\u001b[1;33m.\u001b[0m\u001b[0mshape\u001b[0m\u001b[1;33m[\u001b[0m\u001b[1;36m0\u001b[0m\u001b[1;33m]\u001b[0m\u001b[1;33m,\u001b[0m \u001b[0mdf\u001b[0m\u001b[1;33m.\u001b[0m\u001b[0mshape\u001b[0m\u001b[1;33m[\u001b[0m\u001b[1;36m1\u001b[0m\u001b[1;33m]\u001b[0m\u001b[1;33m)\u001b[0m\u001b[1;33m)\u001b[0m\u001b[1;33m\u001b[0m\u001b[1;33m\u001b[0m\u001b[0m\n\u001b[0m\u001b[0;32m      2\u001b[0m \u001b[0mdf\u001b[0m\u001b[1;33m.\u001b[0m\u001b[0mhead\u001b[0m\u001b[1;33m(\u001b[0m\u001b[1;33m)\u001b[0m\u001b[1;33m\u001b[0m\u001b[1;33m\u001b[0m\u001b[0m\n",
      "\u001b[1;31mNameError\u001b[0m: name 'df' is not defined"
     ]
    }
   ],
   "source": [
    "print(\"We have {} Rows and {} Columns in our dataframe\".format(df.shape[0], df.shape[1]))\n",
    "df.head()"
   ]
  },
  {
   "cell_type": "code",
   "execution_count": null,
   "id": "53156192",
   "metadata": {},
   "outputs": [],
   "source": [
    "# Cheking columns Inforamtion using info method\n",
    "df.info()"
   ]
  },
  {
   "cell_type": "code",
   "execution_count": null,
   "id": "e0ff3a56",
   "metadata": {},
   "outputs": [],
   "source": [
    "## checking for missing values\n",
    "df.isna().sum()"
   ]
  },
  {
   "cell_type": "code",
   "execution_count": null,
   "id": "b6a9e646",
   "metadata": {},
   "outputs": [],
   "source": [
    "df = df.dropna()"
   ]
  },
  {
   "cell_type": "code",
   "execution_count": null,
   "id": "e2493c2f",
   "metadata": {},
   "outputs": [],
   "source": [
    "df"
   ]
  },
  {
   "cell_type": "code",
   "execution_count": null,
   "id": "7574e4a7",
   "metadata": {},
   "outputs": [],
   "source": [
    "df['DISTRICT'].value_counts()"
   ]
  },
  {
   "cell_type": "code",
   "execution_count": null,
   "id": "405576c7",
   "metadata": {},
   "outputs": [],
   "source": [
    "## Getting the index values of the 'TOTAL' rows\n",
    "print(list(np.where(df1[\"DISTRICT\"]=='TOTAL')))"
   ]
  },
  {
   "cell_type": "code",
   "execution_count": null,
   "id": "c42cc517",
   "metadata": {},
   "outputs": [],
   "source": [
    "print(list(np.where(df1[\"DISTRICT\"]=='TOTAL')))"
   ]
  },
  {
   "cell_type": "code",
   "execution_count": null,
   "id": "f0848ec9",
   "metadata": {},
   "outputs": [],
   "source": [
    "print(list(np.where(df1[\"DISTRICT\"]=='DELHI UT TOTAL')))"
   ]
  },
  {
   "cell_type": "code",
   "execution_count": null,
   "id": "bf56898d",
   "metadata": {},
   "outputs": [],
   "source": [
    "df.drop([  700, 1418, 2147, 2876, 3609, 4348, 5090, 5849, 6616, 7395, 8186,\n",
    "       8997,28,   42,   70,  115,  135,  138,  169,  190,  204,  228,  253,\n",
    "        285,  302,  351,  397,  407,  415,  424,  435,  470,  495,  529,\n",
    "        534,  573,  578,  650,  664,  688,  691,  693,  695,  698,  713,\n",
    "        715,  744,  758,  786,  831,  851,  854,  885,  906,  920,  945,\n",
    "        970, 1002, 1019, 1068, 1114, 1124, 1132, 1141, 1152, 1187, 1212,\n",
    "       1246, 1251, 1289, 1294, 1366, 1380, 1406, 1409, 1411, 1413, 1416,\n",
    "       1432, 1434, 1464, 1480, 1508, 1553, 1574, 1577, 1608, 1629, 1643,\n",
    "       1668, 1693, 1725, 1745, 1797, 1843, 1853, 1861, 1870, 1881, 1916,\n",
    "       1941, 1975, 1980, 2018, 2023, 2095, 2109, 2135, 2138, 2140, 2142,\n",
    "       2145, 2160, 2162, 2192, 2208, 2236, 2281, 2302, 2305, 2336, 2357,\n",
    "       2371, 2396, 2421, 2453, 2473, 2525, 2571, 2581, 2589, 2598, 2609,\n",
    "       2644, 2669, 2703, 2708, 2747, 2752, 2824, 2838, 2864, 2867, 2869,\n",
    "       2871, 2874, 2889, 2891, 2921, 2937, 2968, 3013, 3035, 3038, 3069,\n",
    "       3091, 3105, 3130, 3155, 3187, 3207, 3259, 3305, 3315, 3323, 3332,\n",
    "       3343, 3378, 3403, 3437, 3442, 3480, 3485, 3557, 3571, 3597, 3600,\n",
    "       3602, 3604, 3607, 3622, 3624, 3654, 3670, 3701, 3746, 3768, 3771,\n",
    "       3802, 3825, 3839, 3864, 3889, 3921, 3941, 3993, 4039, 4049, 4057,\n",
    "       4066, 4077, 4112, 4138, 4177, 4182, 4220, 4225, 4297, 4311, 4336,\n",
    "       4339, 4341, 4343, 4346, 4361, 4364, 4394, 4410, 4441, 4486, 4508,\n",
    "       4511, 4542, 4565, 4579, 4604, 4631, 4663, 4683, 4735, 4781, 4791,\n",
    "       4799, 4808, 4820, 4855, 4881, 4920, 4925, 4963, 4968, 5040, 5054,\n",
    "       5079, 5081, 5083, 5085, 5088, 5104, 5107, 5137, 5153, 5184, 5229,\n",
    "       5251, 5254, 5286, 5309, 5323, 5351, 5378, 5412, 5431, 5485, 5531,\n",
    "       5542, 5550, 5559, 5571, 5608, 5634, 5674, 5679, 5718, 5723, 5796,\n",
    "       5810, 5835, 5838, 5840, 5842, 5845, 5865, 5868, 5898, 5915, 5946,\n",
    "       5991, 6013, 6016, 6048, 6071, 6087, 6116, 6143, 6177, 6196, 6250,\n",
    "       6296, 6307, 6315, 6324, 6336, 6373, 6399, 6439, 6444, 6485, 6490,\n",
    "       6563, 6577, 6602, 6605, 6607, 6609, 6612, 6632, 6635, 6669, 6687,\n",
    "       6718, 6763, 6785, 6788, 6821, 6844, 6860, 6890, 6917, 6952, 6971,\n",
    "       7025, 7071, 7082, 7090, 7099, 7111, 7148, 7175, 7216, 7221, 7262,\n",
    "       7268, 7342, 7356, 7381, 7384, 7386, 7388, 7391, 7411, 7414, 7448,\n",
    "       7466, 7497, 7542, 7565, 7568, 7603, 7626, 7642, 7672, 7699, 7735,\n",
    "       7756, 7810, 7856, 7867, 7875, 7884, 7896, 7933, 7962, 8004, 8009,\n",
    "       8049, 8055, 8132, 8146, 8172, 8175, 8177, 8179, 8182, 8202, 8205,\n",
    "       8239, 8257, 8290, 8335, 8364, 8367, 8402, 8426, 8442, 8473, 8500,\n",
    "       8536, 8557, 8611, 8657, 8668, 8676, 8685, 8697, 8734, 8763, 8806,\n",
    "       8811, 8851, 8861, 8938, 8952, 8982, 8986, 8988, 8990, 8993, 9013], axis=0, inplace=True)"
   ]
  },
  {
   "cell_type": "code",
   "execution_count": null,
   "id": "e7524c19",
   "metadata": {},
   "outputs": [],
   "source": [
    "df.reset_index(drop = True)"
   ]
  },
  {
   "cell_type": "code",
   "execution_count": null,
   "id": "a0e70e7f",
   "metadata": {},
   "outputs": [],
   "source": [
    "print(\"We have {} Rows and {} Columns in our dataframe\".format(df.shape[0], df.shape[1]))"
   ]
  },
  {
   "cell_type": "code",
   "execution_count": null,
   "id": "6ba07fa0",
   "metadata": {},
   "outputs": [],
   "source": [
    "df.drop(['INSULT TO MODESTY OF WOMEN','KIDNAPPING AND ABDUCTION OF WOMEN AND GIRLS','CRUELTY BY HUSBAND OR HIS RELATIVES',\n",
    "       'IMPORTATION OF GIRLS FROM FOREIGN COUNTRIES',\n",
    "    'ASSAULT ON WOMEN WITH INTENT TO OUTRAGE HER MODESTY'],axis=1, inplace=True)"
   ]
  },
  {
   "cell_type": "code",
   "execution_count": null,
   "id": "db191184",
   "metadata": {},
   "outputs": [],
   "source": [
    "print(\"We have {} Rows and {} Columns in our dataframe\".format(df.shape[0], df.shape[1]))"
   ]
  },
  {
   "cell_type": "code",
   "execution_count": null,
   "id": "9f136720",
   "metadata": {},
   "outputs": [],
   "source": [
    "df.describe()"
   ]
  },
  {
   "cell_type": "code",
   "execution_count": null,
   "id": "630462b5",
   "metadata": {},
   "outputs": [],
   "source": [
    "#Grouping by each state/ut\n",
    "group_state = df.groupby('STATE/UT')"
   ]
  },
  {
   "cell_type": "code",
   "execution_count": null,
   "id": "0c8629b5",
   "metadata": {},
   "outputs": [],
   "source": [
    "group_state.first()"
   ]
  },
  {
   "cell_type": "code",
   "execution_count": null,
   "id": "a015b86c",
   "metadata": {},
   "outputs": [],
   "source": [
    "# Print the maximum value in each group\n",
    "group_state.max()"
   ]
  },
  {
   "cell_type": "code",
   "execution_count": null,
   "id": "465f5a6c",
   "metadata": {},
   "outputs": [],
   "source": [
    "# Print the last value in each group\n",
    "group_state.last()"
   ]
  },
  {
   "cell_type": "code",
   "execution_count": null,
   "id": "d00ca67b",
   "metadata": {},
   "outputs": [],
   "source": [
    "X=df[['YEAR', 'MURDER', 'ATTEMPT TO MURDER',\n",
    "       'CULPABLE HOMICIDE NOT AMOUNTING TO MURDER', 'RAPE', 'CUSTODIAL RAPE',\n",
    "       'OTHER RAPE', 'KIDNAPPING & ABDUCTION',\n",
    "       'KIDNAPPING AND ABDUCTION OF OTHERS', 'DACOITY',\n",
    "       'PREPARATION AND ASSEMBLY FOR DACOITY', 'ROBBERY', 'BURGLARY', 'THEFT',\n",
    "       'AUTO THEFT', 'OTHER THEFT', 'RIOTS', 'CRIMINAL BREACH OF TRUST',\n",
    "       'CHEATING', 'COUNTERFIETING', 'ARSON', 'HURT/GREVIOUS HURT',\n",
    "       'DOWRY DEATHS',  'CAUSING DEATH BY NEGLIGENCE', 'OTHER IPC CRIMES', 'TOTAL IPC CRIMES',\n",
    "       'Total crimes against women', 'Total crimes against children',\n",
    "       'Total crimes against SCs', 'Total crimes against STs']]"
   ]
  },
  {
   "cell_type": "code",
   "execution_count": null,
   "id": "08891397",
   "metadata": {},
   "outputs": [],
   "source": [
    "from sklearn.cluster import KMeans"
   ]
  },
  {
   "cell_type": "code",
   "execution_count": null,
   "id": "f4484643",
   "metadata": {},
   "outputs": [],
   "source": [
    "from sklearn.preprocessing import StandardScaler\n",
    "scaler=StandardScaler()\n",
    "df_scaled = scaler.fit_transform(X)\n",
    "print(df_scaled)\n",
    "df1 = pd.DataFrame(df_scaled)"
   ]
  },
  {
   "cell_type": "code",
   "execution_count": null,
   "id": "520e0104",
   "metadata": {},
   "outputs": [],
   "source": [
    "wcss=[] #within cluster sum of square distance\n",
    "for i in range(1,11):\n",
    "    kmeans=KMeans(n_clusters=i,random_state=42)\n",
    "    kmeans.fit(X)\n",
    "    wcss.append(kmeans.inertia_)\n",
    "    \n",
    "plt.plot(range(1,11),wcss)\n",
    "plt.title(\"Elbow Method\")\n",
    "plt.xlabel('No of Cluster')\n",
    "plt.ylabel(\"WCSS\")\n",
    "plt.show()"
   ]
  },
  {
   "cell_type": "code",
   "execution_count": null,
   "id": "3810327b",
   "metadata": {},
   "outputs": [],
   "source": [
    "kmeans = KMeans(n_clusters=3, init='k-means++', random_state = 42)"
   ]
  },
  {
   "cell_type": "code",
   "execution_count": null,
   "id": "d752dbcc",
   "metadata": {},
   "outputs": [],
   "source": [
    "kmeans.fit(X)"
   ]
  },
  {
   "cell_type": "code",
   "execution_count": null,
   "id": "f0209818",
   "metadata": {},
   "outputs": [],
   "source": [
    "y_kmeans = kmeans.fit_predict(df1)\n",
    "\n",
    "y_kmeans"
   ]
  },
  {
   "cell_type": "code",
   "execution_count": null,
   "id": "38ae4a6a",
   "metadata": {},
   "outputs": [],
   "source": [
    "print(kmeans.labels_)"
   ]
  },
  {
   "cell_type": "code",
   "execution_count": null,
   "id": "26396ab1",
   "metadata": {},
   "outputs": [],
   "source": [
    "#beginning of  the cluster numbering with 1 instead of 0\n",
    "y_kmeans1=y_kmeans+1"
   ]
  },
  {
   "cell_type": "code",
   "execution_count": null,
   "id": "69e4ac7b",
   "metadata": {},
   "outputs": [],
   "source": [
    "# New list called cluster\n",
    "cluster = list(y_kmeans1)\n",
    "# Adding cluster to our data set\n",
    "df['cluster'] = cluster"
   ]
  },
  {
   "cell_type": "code",
   "execution_count": null,
   "id": "82e960fd",
   "metadata": {},
   "outputs": [],
   "source": [
    "#Mean of clusters 1 to 3\n",
    "kmeans_mean_cluster = pd.DataFrame(round(df.groupby('cluster').mean(),1))\n",
    "kmeans_mean_cluster"
   ]
  },
  {
   "cell_type": "code",
   "execution_count": null,
   "id": "9617363f",
   "metadata": {},
   "outputs": [],
   "source": [
    "#y_kmeans1\n",
    "plt.figure(figsize=(8,5))\n",
    "plt.scatter(X[y_kmeans1 == 1]['RAPE'], X[y_kmeans1 == 1]['Total crimes against women'], s = 100, c = 'red', label = 'Cluster 1')\n",
    "\n",
    "plt.scatter(X[y_kmeans1 == 2]['RAPE'], X[y_kmeans1 == 2]['Total crimes against women'], s = 100, c = 'blue', label = 'Cluster 2')\n",
    "\n",
    "plt.scatter(X[y_kmeans1 == 3]['RAPE'], X[y_kmeans1 == 3]['Total crimes against women'], s = 100, c = 'green', label = 'Cluster 3')\n",
    "\n",
    "\n",
    "plt.scatter(kmeans.cluster_centers_[:, 0], kmeans.cluster_centers_[:, 1], s = 300, c = 'yellow', label = 'Centroids')\n",
    "plt.title('Clusters of Crimes')\n",
    "plt.xlabel('MURDER')\n",
    "plt.ylabel('Total crime against Women')\n",
    "plt.savefig('clusterscatter.jpg')\n",
    "plt.legend()\n",
    "plt.show()"
   ]
  },
  {
   "cell_type": "code",
   "execution_count": null,
   "id": "37ea6afd",
   "metadata": {},
   "outputs": [],
   "source": [
    "sns.catplot(x='cluster', y='TOTAL IPC CRIMES', data=df, kind='bar');\n",
    "plt.savefig('clustercatplot.jpg')"
   ]
  },
  {
   "cell_type": "code",
   "execution_count": null,
   "id": "d3f2df77",
   "metadata": {},
   "outputs": [],
   "source": [
    "## Plotting scatterplot \n",
    "\n",
    "plt.figure(figsize=(12,6))\n",
    "sns.scatterplot(x=df['MURDER'], y = df['ATTEMPT TO MURDER'],hue=y_kmeans1)"
   ]
  },
  {
   "cell_type": "code",
   "execution_count": null,
   "id": "02722cd3",
   "metadata": {},
   "outputs": [],
   "source": [
    "data1=df[df['cluster']==1]\n",
    "data2=df[df['cluster']==2]\n",
    "data3=df[df['cluster']==3]"
   ]
  },
  {
   "cell_type": "code",
   "execution_count": null,
   "id": "3f1a9825",
   "metadata": {},
   "outputs": [],
   "source": [
    "data3.groupby('DISTRICT').max()"
   ]
  },
  {
   "cell_type": "code",
   "execution_count": null,
   "id": "1d519139",
   "metadata": {},
   "outputs": [],
   "source": [
    "data3.groupby('DISTRICT').min()"
   ]
  },
  {
   "cell_type": "code",
   "execution_count": null,
   "id": "2e62ca12",
   "metadata": {},
   "outputs": [],
   "source": [
    "sensitivearea=df[df['cluster']==3]"
   ]
  },
  {
   "cell_type": "code",
   "execution_count": null,
   "id": "a6ed17d0",
   "metadata": {},
   "outputs": [],
   "source": [
    "data2.groupby('DISTRICT').max()"
   ]
  },
  {
   "cell_type": "code",
   "execution_count": null,
   "id": "d32e6627",
   "metadata": {},
   "outputs": [],
   "source": [
    "data2.groupby('DISTRICT').min()"
   ]
  },
  {
   "cell_type": "code",
   "execution_count": null,
   "id": "f44c38ea",
   "metadata": {},
   "outputs": [],
   "source": [
    "data2.shape"
   ]
  },
  {
   "cell_type": "code",
   "execution_count": null,
   "id": "7d094ec3",
   "metadata": {},
   "outputs": [],
   "source": [
    "peacefularea=df[df['cluster']==2] "
   ]
  },
  {
   "cell_type": "code",
   "execution_count": null,
   "id": "2868df42",
   "metadata": {},
   "outputs": [],
   "source": [
    "moderatearea=df[df['cluster']==1] "
   ]
  },
  {
   "cell_type": "code",
   "execution_count": null,
   "id": "9bf0a132",
   "metadata": {},
   "outputs": [],
   "source": [
    "data1.groupby('DISTRICT').max()"
   ]
  },
  {
   "cell_type": "code",
   "execution_count": null,
   "id": "05f7e51f",
   "metadata": {},
   "outputs": [],
   "source": [
    "data1.groupby('DISTRICT').min()"
   ]
  },
  {
   "cell_type": "code",
   "execution_count": null,
   "id": "f2b9388a",
   "metadata": {},
   "outputs": [],
   "source": [
    "kmeans.cluster_centers_"
   ]
  },
  {
   "cell_type": "code",
   "execution_count": null,
   "id": "4d73d3cd",
   "metadata": {},
   "outputs": [],
   "source": [
    "## Defining the countplot function for each cluster   for STATE/UT, YEAR,DISTRICT clumns for each cluster\n",
    "def generate_countplot(x):\n",
    "    plt.figure(figsize=(10,7))\n",
    "    sns.countplot(x)\n",
    "    plt.xticks(rotation=90)\n",
    "    plt.tight_layout()\n",
    "    return plt.show()\n",
    "\n",
    "col1 = ['STATE/UT', 'YEAR']"
   ]
  },
  {
   "cell_type": "code",
   "execution_count": null,
   "id": "97a3bc53",
   "metadata": {},
   "outputs": [],
   "source": [
    "for i in sensitivearea[col1]:\n",
    "    print(\"Countplot for {} column:->\".format(i))\n",
    "    generate_countplot(df[i])"
   ]
  },
  {
   "cell_type": "code",
   "execution_count": null,
   "id": "e2ac8deb",
   "metadata": {},
   "outputs": [],
   "source": [
    "plt.figure(figsize=(20,15))\n",
    "plt.scatter(moderatearea['STATE/UT'], moderatearea['TOTAL IPC CRIMES'], s = 100, c = 'blue', label = 'Cluster 1'),#hue=data2['STATE/UT'])\n",
    "plt.scatter(kmeans.cluster_centers_[:, 0], kmeans.cluster_centers_[:, 1], s = 300, c = 'yellow', label = 'Centroids')\n",
    "plt.title('Clusters of crimes Moderate Area')\n",
    "plt.xlabel('State/UT')\n",
    "plt.ylabel('Total crimes against women')\n",
    "plt.legend()\n",
    "plt.show()"
   ]
  },
  {
   "cell_type": "code",
   "execution_count": null,
   "id": "2a90c40d",
   "metadata": {},
   "outputs": [],
   "source": [
    "plt.figure(figsize=(18,10))\n",
    "plt.scatter(peacefularea['STATE/UT'], peacefularea['TOTAL IPC CRIMES'], s = 100, c = 'blue', label = 'Cluster 2'),#hue=data2['STATE/UT'])\n",
    "plt.scatter(kmeans.cluster_centers_[:, 0], kmeans.cluster_centers_[:, 1], s = 300, c = 'yellow', label = 'Centroids')\n",
    "plt.title('Clusters of crimes of Peaceful area')\n",
    "plt.xlabel('State/UT')\n",
    "plt.ylabel('Total crimes against women')\n",
    "plt.legend()\n",
    "plt.show()"
   ]
  },
  {
   "cell_type": "code",
   "execution_count": 1,
   "id": "ca981f92",
   "metadata": {},
   "outputs": [],
   "source": [
    "from sklearn.metrics import silhouette_score"
   ]
  },
  {
   "cell_type": "code",
   "execution_count": null,
   "id": "733239bc",
   "metadata": {},
   "outputs": [],
   "source": [
    "pd.pivot_table(sensitivearea, values =['MURDER', 'ATTEMPT TO MURDER',\n",
    "       'CULPABLE HOMICIDE NOT AMOUNTING TO MURDER', 'RAPE', 'CUSTODIAL RAPE',\n",
    "       'OTHER RAPE', 'KIDNAPPING & ABDUCTION',\n",
    "       'KIDNAPPING AND ABDUCTION OF OTHERS', 'DACOITY',\n",
    "       'PREPARATION AND ASSEMBLY FOR DACOITY', 'ROBBERY', 'BURGLARY', 'THEFT',\n",
    "       'AUTO THEFT', 'OTHER THEFT', 'RIOTS', 'CRIMINAL BREACH OF TRUST',\n",
    "       'CHEATING', 'COUNTERFIETING', 'ARSON', 'HURT/GREVIOUS HURT',\n",
    "       'DOWRY DEATHS',  'CAUSING DEATH BY NEGLIGENCE', 'OTHER IPC CRIMES', 'TOTAL IPC CRIMES',\n",
    "       'Total crimes against women', 'Total crimes against children',\n",
    "       'Total crimes against SCs', 'Total crimes against STs'], index =['STATE/UT','DISTRICT', 'YEAR'],\n",
    "                          aggfunc = max)\n",
    "#Pivot table representation of a particular crime by 'Year' and 'State' features"
   ]
  },
  {
   "cell_type": "code",
   "execution_count": null,
   "id": "accea3a4",
   "metadata": {},
   "outputs": [],
   "source": [
    "print(\"We have {} Rows and {} Columns in our dataframe Sensitive Area \".format(sensitivearea.shape[0], sensitivearea.shape[1]))"
   ]
  },
  {
   "cell_type": "code",
   "execution_count": null,
   "id": "75484467",
   "metadata": {},
   "outputs": [],
   "source": [
    "tot_murder= sensitivearea['MURDER'].sum()\n",
    "tot_rape= sensitivearea['RAPE'].sum()\n",
    "tot_dowrydeaths = sensitivearea['DOWRY DEATHS'].sum()\n",
    "\n",
    "tot_riots=sensitivearea['RIOTS'].sum()\n",
    "tot_kidnap= sensitivearea['KIDNAPPING & ABDUCTION'].sum()\n",
    "tot_dacoity= sensitivearea['DACOITY'].sum()\n",
    "tot_robbery = sensitivearea['ROBBERY'].sum()\n",
    "tot_burglary= sensitivearea['BURGLARY'].sum()\n",
    "tot_theft= sensitivearea['THEFT'].sum()\n",
    "tot_crimes_against_women = sensitivearea['Total crimes against women'].sum()\n",
    "tot_crimes_against_STs = sensitivearea['Total crimes against STs'].sum()\n",
    "tot_crimes_against_SCs = sensitivearea['Total crimes against SCs'].sum()\n",
    "tot_crimes_against_children = sensitivearea['Total crimes against children'].sum()\n",
    "\n",
    "\n",
    "crime_group = ['TOTAL Murder','TOTAL rape','Total Dowry Deaths','Total Kidnapping','TOTAL Dacoity','Total Robbery','TOtal Burglary','Total Theft','Total Riots',\n",
    "                'Total Crimes Against Women','Total Crimes Against SC','Total Crimes against STs','Total Crimes Against Children']\n",
    "values = [tot_murder,tot_rape,tot_dowrydeaths,tot_kidnap,tot_dacoity,tot_robbery,tot_burglary,\n",
    "          tot_theft,tot_riots,tot_crimes_against_women,tot_crimes_against_STs,tot_crimes_against_SCs,tot_crimes_against_children]\n",
    "\n",
    "colors = ['crimson','gold','green','yellow','blue','black']"
   ]
  },
  {
   "cell_type": "code",
   "execution_count": null,
   "id": "785fa505",
   "metadata": {},
   "outputs": [],
   "source": [
    "fig = go.Figure(data=[go.Pie(labels=crime_group, values=values,sort=False,\n",
    "                            marker=dict(colors=colors),textfont_size=12)])\n",
    "\n",
    "fig.show(renderer='svg')"
   ]
  },
  {
   "cell_type": "code",
   "execution_count": null,
   "id": "5101e194",
   "metadata": {},
   "outputs": [],
   "source": [
    "sensitivearea['STATE/UT'].value_counts()"
   ]
  },
  {
   "cell_type": "code",
   "execution_count": null,
   "id": "bd2f9089",
   "metadata": {},
   "outputs": [],
   "source": [
    "sensitivearea['DISTRICT'].value_counts()"
   ]
  },
  {
   "cell_type": "code",
   "execution_count": null,
   "id": "33600eb1",
   "metadata": {},
   "outputs": [],
   "source": [
    "sensitivearea_dis=sensitivearea.groupby('DISTRICT')"
   ]
  },
  {
   "cell_type": "code",
   "execution_count": null,
   "id": "047a10cd",
   "metadata": {},
   "outputs": [],
   "source": [
    "sensitivearea_dis.first()"
   ]
  },
  {
   "cell_type": "code",
   "execution_count": null,
   "id": "2f50da1b",
   "metadata": {},
   "outputs": [],
   "source": [
    "sensitivearea.describe().T"
   ]
  },
  {
   "cell_type": "code",
   "execution_count": null,
   "id": "4315f041",
   "metadata": {},
   "outputs": [],
   "source": [
    "plt.figure(figsize=(15, 5))\n",
    "sns.barplot(x='STATE/UT', y='TOTAL IPC CRIMES',data=sensitivearea)\n",
    "plt.xticks(rotation='90')\n",
    "plt.title(\"Total IPC CRIMES' in Sensitive area\")\n",
    "plt.show()"
   ]
  },
  {
   "cell_type": "code",
   "execution_count": null,
   "id": "79ff2783",
   "metadata": {},
   "outputs": [],
   "source": [
    "plt.figure(figsize=(15, 5))\n",
    "sns.barplot(x='DISTRICT', y='TOTAL IPC CRIMES',data=sensitivearea)\n",
    "plt.xticks(rotation='90')\n",
    "plt.title(\"Total IPC CRIMES' in Sensitive area\")\n",
    "plt.savefig('IPC CRIMES in Sensitive area.jpg')\n",
    "plt.show()"
   ]
  },
  {
   "cell_type": "code",
   "execution_count": null,
   "id": "41d8b281",
   "metadata": {},
   "outputs": [],
   "source": [
    "plt.figure(figsize=(15, 5))\n",
    "sns.barplot(x='DISTRICT', y='Total crimes against women',data=sensitivearea)\n",
    "plt.xticks(rotation='90')\n",
    "plt.title(\"Total crimes against women in Sensitive area\")\n",
    "\n",
    "plt.savefig('Total crimes against women in Sensitive area.jpg')\n",
    "plt.show()"
   ]
  },
  {
   "cell_type": "code",
   "execution_count": null,
   "id": "5da243d9",
   "metadata": {},
   "outputs": [],
   "source": [
    "plt.figure(figsize=(15, 5))\n",
    "sns.barplot(x='DISTRICT', y='Total crimes against SCs',data=sensitivearea)\n",
    "plt.xticks(rotation='90')\n",
    "plt.title(\"Total crimes against SCs in Sensitive area\")\n",
    "plt.savefig('Total crimes against SCs in Sensitive area')\n",
    "plt.show()"
   ]
  },
  {
   "cell_type": "code",
   "execution_count": null,
   "id": "b2641529",
   "metadata": {},
   "outputs": [],
   "source": [
    "plt.figure(figsize=(15, 5))\n",
    "sns.barplot(x='DISTRICT', y='Total crimes against STs',data=sensitivearea)\n",
    "plt.xticks(rotation='90')\n",
    "plt.title(\"Total crimes against STs in Sensitive area\")\n",
    "plt.savefig('Total crimes against STs in Sensitive area')\n",
    "plt.show()"
   ]
  },
  {
   "cell_type": "code",
   "execution_count": null,
   "id": "3336dea0",
   "metadata": {},
   "outputs": [],
   "source": [
    "plt.figure(figsize=(18,6))\n",
    "sns.scatterplot(x = \"STATE/UT\", y = \"MURDER\", data = sensitivearea,hue='YEAR')\n",
    "plt.legend()\n",
    "#plt.tight_layout()\n",
    "plt.show()"
   ]
  },
  {
   "cell_type": "code",
   "execution_count": null,
   "id": "68e6b39f",
   "metadata": {},
   "outputs": [],
   "source": [
    "g = sns.pairplot(sensitivearea[['']])\n",
    "for ax in g.axes.flat:\n",
    "    ax.tick_params(\"x\", labelrotation=90)\n",
    "plt.show()"
   ]
  },
  {
   "cell_type": "code",
   "execution_count": null,
   "id": "609419ce",
   "metadata": {},
   "outputs": [],
   "source": [
    "fig, axes = plt.subplots(7, 3, figsize=(45, 35))\n",
    "\n",
    "axes[0,0].set_title(\"Chart of MURDER cases in India in 2001-2012\")\n",
    "axes[0,0].bar(sensitivearea['YEAR'], sensitivearea['MURDER'], color = 'black');\n",
    "plt.xlabel('YEAR') #X-axis\n",
    "plt.ylabel('Cases of MURDER in India') #Y-axis\n",
    "\n",
    "axes[0,1].set_title(\"Chart of ATTEMPT TO MURDER cases in India in 2001-2012\")\n",
    "axes[0,1].bar(sensitivearea['YEAR'], sensitivearea['ATTEMPT TO MURDER'], color = 'violet');\n",
    "plt.xlabel('Year') #X-axis\n",
    "plt.ylabel('Cases of ATTEMPT TO MURDER in India') #Y-axis\n",
    "\n",
    "axes[0,2].set_title(\"Chart of CULPABLE HOMICIDE NOT AMOUNTING TO MURDER cases in India in 2001-2012\")\n",
    "axes[0,2].bar(sensitivearea['YEAR'], sensitivearea['CULPABLE HOMICIDE NOT AMOUNTING TO MURDER'], color = 'navy');\n",
    "plt.xlabel('Year') #X-axis\n",
    "plt.ylabel('Cases of CULPABLE HOMICIDE NOT AMOUNTING TO MURDER in India') #Y-axis\n",
    "\n",
    "axes[1,0].set_title(\"Chart of RAPE in 2001-2012\")\n",
    "axes[1,0].bar(sensitivearea['YEAR'], sensitivearea['RAPE'], color = 'cyan');\n",
    "plt.xlabel('Year') #X-axis\n",
    "plt.ylabel('Cases of RAPE in India') #Y-axis\n",
    "\n",
    "axes[1,1].set_title(\"Chart of CUSTODIAL RAPE cases in India in 2001-2012\")\n",
    "axes[1,1].bar(sensitivearea['YEAR'], sensitivearea['CUSTODIAL RAPE'], color = 'orange');\n",
    "plt.xlabel('YEAR') #X-axis\n",
    "plt.ylabel('Cases of CUSTODIAL RAPE in India') #Y-axis\n",
    "\n",
    "axes[1,2].set_title(\"Chart of KIDNAPPING & ABDUCTION in India in 2001-2012\")\n",
    "axes[1,2].bar(sensitivearea['YEAR'], sensitivearea['KIDNAPPING & ABDUCTION'], color = 'red');\n",
    "plt.xlabel('Year') #X-axis\n",
    "plt.ylabel('Cases of KIDNAPPING & ABDUCTION in India') #Y-axis\n",
    "\n",
    "axes[2,0].set_title(\"Chart of KIDNAPPING AND ABDUCTION OF OTHERS in India in 2001-2012\")\n",
    "axes[2,0].bar(sensitivearea['YEAR'], sensitivearea['KIDNAPPING AND ABDUCTION OF OTHERS'], color = 'blue');\n",
    "plt.xlabel('Year') #X-axis\n",
    "plt.ylabel('Cases of KIDNAPPING AND ABDUCTION OF OTHERSin India') #Y-axis\n",
    "\n",
    "\n",
    "axes[2,1].set_title(\"Chart of DACOITY in India in 2001-2012\")\n",
    "axes[2,1].bar(sensitivearea['YEAR'], sensitivearea['DACOITY'], color = 'green');\n",
    "plt.xlabel('Year') #X-axis\n",
    "plt.ylabel('Cases of DACOITY in India') #Y-axis\n",
    "\n",
    "axes[2,2].set_title(\"Chart of ROBBERY in India in 2001-2012\")\n",
    "axes[2,2].bar(sensitivearea['YEAR'], sensitivearea['ROBBERY'], color = 'lightpink');\n",
    "plt.xlabel('Year') #X-axis\n",
    "plt.ylabel('Cases of ROBBERY in India') #Y-axis\n",
    "\n",
    "axes[3,0].set_title(\"Chart of BURGLARY in India in 2001-2012\")\n",
    "axes[3,0].bar(sensitivearea['YEAR'], sensitivearea['BURGLARY'], color = 'darkgreen');\n",
    "plt.xlabel('Year') #X-axis\n",
    "plt.ylabel('Cases of BURGLARY in India') #Y-axis\n",
    "\n",
    "\n",
    "axes[3,1].set_title(\"Chart of THEFT in India in 2001-2012\")\n",
    "axes[3,1].bar(sensitivearea['YEAR'], sensitivearea['THEFT'], color = 'darkblue');\n",
    "plt.xlabel('Year') #X-axis\n",
    "plt.ylabel('Cases of THEFT in India') #Y-axis\n",
    "\n",
    "\n",
    "\n",
    "axes[3,2].set_title(\"Chart of AUTO THEFT in India in 2001-2012\")\n",
    "axes[3,2].bar(sensitivearea['YEAR'], sensitivearea['AUTO THEFT'], color = 'black');\n",
    "plt.xlabel('Year') #X-axis\n",
    "plt.ylabel('Cases of AUTO THEFT in India') #Y-axis\n",
    "\n",
    "\n",
    "axes[4,0].set_title(\"Chart of RIOTS in India in 2001-2012\")\n",
    "axes[4,0].bar(sensitivearea['YEAR'], sensitivearea['RIOTS'], color = 'navy');\n",
    "plt.xlabel('Year') #X-axis\n",
    "plt.ylabel('Cases of RIOTS') #Y-axis\n",
    "\n",
    "axes[4,1].set_title(\"Chart of CRIMINAL BREACH OF TRUST in India in 2001-2012\")\n",
    "axes[4,1].bar(sensitivearea['YEAR'], sensitivearea['CRIMINAL BREACH OF TRUST'], color = 'red');\n",
    "plt.xlabel('Year') #X-axis\n",
    "plt.ylabel('Cases of CRIMINAL BREACH OF TRUST in India') #Y-axis\n",
    "\n",
    "\n",
    "axes[4,2].set_title(\"Chart of CHEATING in India in 2001-2012\")\n",
    "axes[4,2].bar(sensitivearea['YEAR'], sensitivearea['CHEATING'], color = 'black');\n",
    "plt.xlabel('Year') #X-axis\n",
    "plt.ylabel('Cases of CHEATING in India') #Y-axis\n",
    "\n",
    "axes[5,0].set_title(\"Chart of COUNTERFIETING in India in 2001-2012\")\n",
    "axes[5,0].bar(sensitivearea['YEAR'], sensitivearea['COUNTERFIETING'], color = 'red');\n",
    "plt.xlabel('Year') #X-axis\n",
    "plt.ylabel('Cases of COUNTERFIETING in India') #Y-axis\n",
    "\n",
    "axes[5,1].set_title(\"Chart of ARSON in India in 2001-2012\")\n",
    "axes[5,1].bar(sensitivearea['YEAR'], sensitivearea['ARSON'], color = 'cyan');\n",
    "plt.xlabel('Year') #X-axis\n",
    "plt.ylabel('Cases of ARSON in India') #Y-axis\n",
    "\n",
    "\n",
    "axes[5,2].set_title(\"Chart of HURT/GREVIOUS HURT in India in 2001-2012\")\n",
    "axes[5,2].bar(sensitivearea['YEAR'], sensitivearea['HURT/GREVIOUS HURT'], color = 'blue');\n",
    "plt.xlabel('Year') #X-axis\n",
    "plt.ylabel('Cases of HURT/GREVIOUS HURT in India') #Y-axis\n",
    "\n",
    "axes[6,0].set_title(\"Chart of DOWRY DEATHS in India in 2001-2012\")\n",
    "axes[6,0].bar(sensitivearea['YEAR'], sensitivearea['DOWRY DEATHS'], color = 'yellow');\n",
    "plt.xlabel('Year') #X-axis\n",
    "plt.ylabel('Cases of DOWRY DEATHS in India') #Y-axis\n",
    "\n",
    "axes[6,1].set_title(\"Chart of OTHER THEFT in India in 2001-2012\")\n",
    "axes[6,1].bar(sensitivearea['YEAR'], sensitivearea['OTHER THEFT'], color = 'green');\n",
    "plt.xlabel('Year') #X-axis\n",
    "plt.ylabel('Cases of OTHER THEFT in India') #Y-axis\n",
    "\n",
    "axes[6,2].set_title(\"Chart of OTHER IPC in 2001-2012\")\n",
    "axes[6,2].bar(sensitivearea['YEAR'], sensitivearea['OTHER IPC CRIMES'], color = 'blue');\n",
    "plt.xlabel('Year') #X-axis\n",
    "plt.ylabel('Cases of INSULT TO MODESTY OF WOMEN in India') #Y-axis"
   ]
  },
  {
   "cell_type": "code",
   "execution_count": null,
   "id": "c5838177",
   "metadata": {},
   "outputs": [],
   "source": [
    "plt.figure(figsize=(18,12))\n",
    "sns.heatmap(sensitivearea.corr(),annot=True)\n",
    "plt.savefig('heatmap2.jpg')\n",
    "plt.show()"
   ]
  },
  {
   "cell_type": "code",
   "execution_count": null,
   "id": "52840e3a",
   "metadata": {},
   "outputs": [],
   "source": [
    "pd.pivot_table(moderatearea, values =['MURDER', 'ATTEMPT TO MURDER',\n",
    "       'CULPABLE HOMICIDE NOT AMOUNTING TO MURDER', 'RAPE', 'CUSTODIAL RAPE',\n",
    "       'OTHER RAPE', 'KIDNAPPING & ABDUCTION',\n",
    "       'KIDNAPPING AND ABDUCTION OF OTHERS', 'DACOITY',\n",
    "       'PREPARATION AND ASSEMBLY FOR DACOITY', 'ROBBERY', 'BURGLARY', 'THEFT',\n",
    "       'AUTO THEFT', 'OTHER THEFT', 'RIOTS', 'CRIMINAL BREACH OF TRUST',\n",
    "       'CHEATING', 'COUNTERFIETING', 'ARSON', 'HURT/GREVIOUS HURT',\n",
    "       'DOWRY DEATHS',  'CAUSING DEATH BY NEGLIGENCE', 'OTHER IPC CRIMES', 'TOTAL IPC CRIMES',\n",
    "       'Total crimes against women', 'Total crimes against children',\n",
    "       'Total crimes against SCs', 'Total crimes against STs'], index =['STATE/UT','DISTRICT', 'YEAR'],\n",
    "                          aggfunc = max)\n",
    "#Pivot table representation of a particular crime by 'Year' and 'State' features"
   ]
  },
  {
   "cell_type": "code",
   "execution_count": null,
   "id": "6b93ab7f",
   "metadata": {},
   "outputs": [],
   "source": [
    "print(\"We have {} Rows and {} Columns in our dataframe Moderate Area \".format(moderatearea.shape[0], moderatearea.shape[1]))"
   ]
  },
  {
   "cell_type": "code",
   "execution_count": null,
   "id": "2b420835",
   "metadata": {},
   "outputs": [],
   "source": [
    "moderatearea['STATE/UT'].value_counts()"
   ]
  },
  {
   "cell_type": "code",
   "execution_count": null,
   "id": "a5684a65",
   "metadata": {},
   "outputs": [],
   "source": [
    "moderatearea['DISTRICT'].value_counts()"
   ]
  },
  {
   "cell_type": "code",
   "execution_count": null,
   "id": "2a74b5d3",
   "metadata": {},
   "outputs": [],
   "source": [
    "moderatearea.describe().T"
   ]
  },
  {
   "cell_type": "code",
   "execution_count": null,
   "id": "c31a2975",
   "metadata": {},
   "outputs": [],
   "source": [
    "plt.figure(figsize=(15, 5))\n",
    "sns.barplot(x='STATE/UT', y='TOTAL IPC CRIMES',data=moderatearea)\n",
    "plt.xticks(rotation='90')\n",
    "plt.title(\"Total IPC CRIMES in Moderate area\")\n",
    "plt.savefig('Total IPC CRIMES in Moderate area.jpg')\n",
    "plt.show()"
   ]
  },
  {
   "cell_type": "code",
   "execution_count": null,
   "id": "029ba5b5",
   "metadata": {},
   "outputs": [],
   "source": [
    "plt.figure(figsize=(15, 5))\n",
    "sns.scatterplot(x='STATE/UT', y='Total crimes against women',data=moderatearea)\n",
    "plt.xticks(rotation='90')\n",
    "plt.title(\"Total crimes against women in Modrate area\")\n",
    "plt.savefig('Total crimes against womenin Moderate area.jpg')\n",
    "plt.show()"
   ]
  },
  {
   "cell_type": "code",
   "execution_count": null,
   "id": "8b48ba5d",
   "metadata": {},
   "outputs": [],
   "source": [
    "plt.figure(figsize=(15, 5))\n",
    "sns.barplot(x='STATE/UT', y='Total crimes against SCs',data=moderatearea)\n",
    "plt.xticks(rotation='90')\n",
    "plt.title(\"Total crimes against women in Moderate area\")\n",
    "plt.savefig('Total crimes against women in Moderate area.jpg')\n",
    "plt.show()"
   ]
  },
  {
   "cell_type": "code",
   "execution_count": null,
   "id": "fc2037e8",
   "metadata": {},
   "outputs": [],
   "source": [
    "plt.figure(figsize=(15, 5))\n",
    "sns.scatterplot(x='STATE/UT', y='Total crimes against STs',data=moderatearea)\n",
    "plt.xticks(rotation='90')\n",
    "plt.title(\"Total crimes against STs in Moderate area\")\n",
    "plt.savefig('Total crimes against STs in Moderate area.jpg')\n",
    "\n",
    "plt.show()"
   ]
  },
  {
   "cell_type": "code",
   "execution_count": null,
   "id": "aed4b7d7",
   "metadata": {},
   "outputs": [],
   "source": [
    "tot_murder= moderatearea['MURDER'].sum()\n",
    "tot_rape= moderatearea['RAPE'].sum()\n",
    "tot_dowrydeaths = moderatearea['DOWRY DEATHS'].sum()\n",
    "\n",
    "tot_kidnap= moderatearea['KIDNAPPING & ABDUCTION'].sum()\n",
    "tot_dacoity= moderatearea['DACOITY'].sum()\n",
    "tot_robbery = moderatearea['ROBBERY'].sum()\n",
    "tot_burglary= moderatearea['BURGLARY'].sum()\n",
    "tot_theft= moderatearea['THEFT'].sum()\n",
    "tot_crimes_against_women = moderatearea['Total crimes against women'].sum()\n",
    "tot_crimes_against_STs = moderatearea['Total crimes against STs'].sum()\n",
    "tot_crimes_against_SCs = moderatearea['Total crimes against SCs'].sum()\n",
    "tot_crimes_against_children = moderatearea['Total crimes against children'].sum()\n",
    "\n",
    "\n",
    "\n",
    "\n",
    "crime_group = ['TOTAL Murder','TOTAL rape','Total Dowry Deaths','Total Kidnapping','TOTAL Dacoity','Total Robbery','TOtal Burglary','Total Theft','Total Riots',\n",
    "                'Total Crimes Against Women','Total Crimes Against SC','Total Crimes against STs','Total Crimes Against Children']\n",
    "values = [tot_murder,tot_rape,tot_dowrydeaths,tot_kidnap,tot_dacoity,tot_robbery,tot_burglary,\n",
    "          tot_theft,tot_riots,tot_crimes_against_women,tot_crimes_against_STs,tot_crimes_against_SCs,tot_crimes_against_children]\n",
    "\n",
    "\n",
    "\n",
    "colors = ['crimson','gold','green','yellow','blue','black']"
   ]
  },
  {
   "cell_type": "code",
   "execution_count": null,
   "id": "72ad65c6",
   "metadata": {},
   "outputs": [],
   "source": [
    "fig = go.Figure(data=[go.Pie(labels=crime_group, values=values,sort=False,\n",
    "                            marker=dict(colors=colors),textfont_size=12)])\n",
    "\n",
    "fig.show(renderer='svg')"
   ]
  },
  {
   "cell_type": "code",
   "execution_count": null,
   "id": "bea403a2",
   "metadata": {},
   "outputs": [],
   "source": [
    "moderatearea.groupby('DISTRICT').min()"
   ]
  },
  {
   "cell_type": "code",
   "execution_count": null,
   "id": "838443ec",
   "metadata": {},
   "outputs": [],
   "source": [
    "moderatearea.groupby('DISTRICT')['THEFT'].sum().sort_values()"
   ]
  },
  {
   "cell_type": "code",
   "execution_count": null,
   "id": "47f071db",
   "metadata": {},
   "outputs": [],
   "source": [
    "moderatearea.loc[moderatearea['DISTRICT'] == 'SOUTH'].max()"
   ]
  },
  {
   "cell_type": "code",
   "execution_count": null,
   "id": "bd1bc939",
   "metadata": {},
   "outputs": [],
   "source": [
    "moderatearea.groupby('DISTRICT')['RIOTS'].sum().sort_values()"
   ]
  },
  {
   "cell_type": "code",
   "execution_count": null,
   "id": "0beb7ac3",
   "metadata": {},
   "outputs": [],
   "source": [
    "moderatearea.loc[moderatearea['DISTRICT'] == 'KANNUR'].max()"
   ]
  },
  {
   "cell_type": "code",
   "execution_count": null,
   "id": "fb7287b0",
   "metadata": {},
   "outputs": [],
   "source": [
    "moderatearea['STATE/UT'].value_counts()"
   ]
  },
  {
   "cell_type": "code",
   "execution_count": null,
   "id": "a422f476",
   "metadata": {},
   "outputs": [],
   "source": [
    "pd.pivot_table(sensitivearea, values =['MURDER', 'ATTEMPT TO MURDER',\n",
    "       'CULPABLE HOMICIDE NOT AMOUNTING TO MURDER', 'RAPE', 'CUSTODIAL RAPE',\n",
    "       'OTHER RAPE', 'KIDNAPPING & ABDUCTION',\n",
    "       'KIDNAPPING AND ABDUCTION OF OTHERS', 'DACOITY',\n",
    "       'PREPARATION AND ASSEMBLY FOR DACOITY', 'ROBBERY', 'BURGLARY', 'THEFT',\n",
    "       'AUTO THEFT', 'OTHER THEFT', 'RIOTS', 'CRIMINAL BREACH OF TRUST',\n",
    "       'CHEATING', 'COUNTERFIETING', 'ARSON', 'HURT/GREVIOUS HURT',\n",
    "       'DOWRY DEATHS',  'CAUSING DEATH BY NEGLIGENCE', 'OTHER IPC CRIMES', 'TOTAL IPC CRIMES',\n",
    "       'Total crimes against women', 'Total crimes against children',\n",
    "       'Total crimes against SCs', 'Total crimes against STs'], index =['STATE/UT','DISTRICT', 'YEAR'],\n",
    "                          aggfunc = max)\n",
    "#Pivot table representation of a particular crime by 'Year' and 'State' features"
   ]
  },
  {
   "cell_type": "code",
   "execution_count": null,
   "id": "2a5028c8",
   "metadata": {},
   "outputs": [],
   "source": [
    "print(\"We have {} Rows and {} Columns in our dataframe Peaceful Area \".format(peacefularea.shape[0], peacefularea.shape[1]))"
   ]
  },
  {
   "cell_type": "code",
   "execution_count": null,
   "id": "9f745699",
   "metadata": {},
   "outputs": [],
   "source": [
    "peacefularea['STATE/UT'].value_counts()"
   ]
  },
  {
   "cell_type": "code",
   "execution_count": null,
   "id": "2fe29fdd",
   "metadata": {},
   "outputs": [],
   "source": [
    "peacefularea['DISTRICT'].value_counts()"
   ]
  },
  {
   "cell_type": "code",
   "execution_count": null,
   "id": "73baf320",
   "metadata": {},
   "outputs": [],
   "source": [
    "plt.figure(figsize=(15, 5))\n",
    "sns.barplot(x='STATE/UT', y='TOTAL IPC CRIMES',data=peacefularea)\n",
    "plt.xticks(rotation='90')\n",
    "plt.title('State/UT vs Total IPC Crimes in peaceful area')\n",
    "plt.savefig('Total IPC Crimes in peaceful area.jpg')\n",
    "plt.show()"
   ]
  },
  {
   "cell_type": "code",
   "execution_count": null,
   "id": "dc76051a",
   "metadata": {},
   "outputs": [],
   "source": [
    "plt.figure(figsize=(15, 5))\n",
    "sns.barplot(x='STATE/UT', y='Total crimes against women',data=peacefularea)\n",
    "plt.xticks(rotation='90')\n",
    "plt.title(\"Total crimes against women in Paceful area\")\n",
    "plt.savefig('crime agains women inoeacefula area')\n",
    "plt.show()"
   ]
  },
  {
   "cell_type": "code",
   "execution_count": null,
   "id": "4880e74d",
   "metadata": {},
   "outputs": [],
   "source": [
    "plt.figure(figsize=(15, 5))\n",
    "sns.barplot(x='STATE/UT', y='Total crimes against SCs',data=peacefularea)\n",
    "plt.xticks(rotation='90')\n",
    "plt.title(\"Total crimes against SCs in peacefularea.jpg in Paceful area\")\n",
    "plt.savefig('crimes against SCs in peacefularea.jpg')\n",
    "plt.show()"
   ]
  },
  {
   "cell_type": "code",
   "execution_count": null,
   "id": "6ba16daa",
   "metadata": {},
   "outputs": [],
   "source": [
    "plt.figure(figsize=(15, 5))\n",
    "sns.barplot(x='STATE/UT', y='Total crimes against STs',data=peacefularea)\n",
    "plt.xticks(rotation='90')\n",
    "plt.title(\"Total crimes against STs in Paceful area\")\n",
    "plt.savefig('crimes against STs in Paceful area')\n",
    "plt.show()"
   ]
  },
  {
   "cell_type": "code",
   "execution_count": null,
   "id": "9de1e9f9",
   "metadata": {},
   "outputs": [],
   "source": [
    "plt.figure(figsize=(15, 5))\n",
    "sns.barplot(x='STATE/UT', y='Total crimes against children',data=peacefularea)\n",
    "plt.xticks(rotation='90')\n",
    "plt.title(\"Total crimes against children in Paceful area.jpg\")\n",
    "plt.show()"
   ]
  },
  {
   "cell_type": "code",
   "execution_count": null,
   "id": "611e5883",
   "metadata": {},
   "outputs": [],
   "source": [
    "tot_murder= peacefularea['MURDER'].sum()\n",
    "tot_rape= peacefularea['RAPE'].sum()\n",
    "tot_dowrydeaths = peacefularea['DOWRY DEATHS'].sum()\n",
    "\n",
    "tot_kidnap= peacefularea['KIDNAPPING & ABDUCTION'].sum()\n",
    "tot_dacoity= peacefularea['DACOITY'].sum()\n",
    "tot_robbery = peacefularea['ROBBERY'].sum()\n",
    "tot_burglary= peacefularea['BURGLARY'].sum()\n",
    "tot_theft= peacefularea['THEFT'].sum()\n",
    "tot_crimes_against_women = peacefularea['Total crimes against women'].sum()\n",
    "tot_crimes_against_STs = peacefularea['Total crimes against STs'].sum()\n",
    "tot_crimes_against_SCs = peacefularea['Total crimes against SCs'].sum()\n",
    "tot_crimes_against_children = peacefularea['Total crimes against children'].sum()\n",
    "\n",
    "\n",
    "crime_group = ['TOTAL Murder','TOTAL rape','Total Dowry Deaths','Total Kidnapping','TOTAL Dacoity','Total Robbery','TOtal Burglary','Total Theft','Total Riots',\n",
    "                'Total Crimes Against Women','Total Crimes Against SC','Total Crimes against STs','Total Crimes Against Children']\n",
    "values = [tot_murder,tot_rape,tot_dowrydeaths,tot_kidnap,tot_dacoity,tot_robbery,tot_burglary,\n",
    "          tot_theft,tot_riots,tot_crimes_against_women,tot_crimes_against_STs,tot_crimes_against_SCs,tot_crimes_against_children]\n",
    "\n",
    "colors = ['crimson','gold','green','yellow','blue','black']"
   ]
  },
  {
   "cell_type": "code",
   "execution_count": null,
   "id": "8898605f",
   "metadata": {},
   "outputs": [],
   "source": [
    "fig = go.Figure(data=[go.Pie(labels=crime_group, values=values,sort=False,\n",
    "                            marker=dict(colors=colors),textfont_size=12)])\n",
    "\n",
    "fig.show(renderer='svg')"
   ]
  },
  {
   "cell_type": "code",
   "execution_count": null,
   "id": "f93ebb07",
   "metadata": {},
   "outputs": [],
   "source": [
    "peacefularea.groupby('DISTRICT').min()"
   ]
  },
  {
   "cell_type": "code",
   "execution_count": null,
   "id": "ea418402",
   "metadata": {},
   "outputs": [],
   "source": [
    "peacefularea.groupby('DISTRICT')['THEFT'].sum().sort_values()"
   ]
  },
  {
   "cell_type": "code",
   "execution_count": null,
   "id": "b0d1a07c",
   "metadata": {},
   "outputs": [],
   "source": [
    "peacefularea[peacefularea['DISTRICT']=='G.R.P.'].max()"
   ]
  },
  {
   "cell_type": "code",
   "execution_count": null,
   "id": "c0cc47a9",
   "metadata": {},
   "outputs": [],
   "source": [
    "peacefularea['DISTRICT'].max()"
   ]
  },
  {
   "cell_type": "code",
   "execution_count": null,
   "id": "9a9520ce",
   "metadata": {},
   "outputs": [],
   "source": [
    "peacefularea[peacefularea['DISTRICT']=='ZUNHEBOTO'].max()"
   ]
  },
  {
   "cell_type": "code",
   "execution_count": null,
   "id": "9c51bf25",
   "metadata": {},
   "outputs": [],
   "source": [
    "peacefularea['DISTRICT'].min()"
   ]
  },
  {
   "cell_type": "code",
   "execution_count": null,
   "id": "41e4bf8e",
   "metadata": {},
   "outputs": [],
   "source": [
    "peacefularea[peacefularea['DISTRICT']=='A and N ISLANDS'].max()"
   ]
  },
  {
   "cell_type": "code",
   "execution_count": null,
   "id": "558c224f",
   "metadata": {},
   "outputs": [],
   "source": [
    "silhouette_score(X,y_kmeans)#data and cluster"
   ]
  },
  {
   "cell_type": "code",
   "execution_count": null,
   "id": "c852f00a",
   "metadata": {},
   "outputs": [],
   "source": [
    "#capstone project overall story\n",
    "In the duration of 3 weeeks we were asked to given submission of this Capston Project that is - Crimes in India. We were already given the data (10 CSV files which were compireses of States/UR, District , Year(2001- 2012) and Diffrent Crime head.And we were asked to collect the data on\n",
    "\n",
    "The population of each state.\n",
    "Literacy Rate in each state\n",
    "Area of each state\n",
    "Initially I was Confuse about data collection part as but as soon as I started working on this Project I Start to understand and made some assumption as Population, Litercay rate that was given only for 2001 and 2011 so I calculated the growth rate and found the Population, Litercay rate for Every State per year.\n",
    "\n",
    "It took so long as I added Few columns for my analysis in the dataset like Population in Rural/Urban Area, Total male, Tota Female, Population Litercay, Male Literacy, Female Literacy, Area of each state and Diiferent Crimes Head Like Murdeer, Riots, DOwry deaths, Raes, Arson, Total Crimes against Women/Children/SCs/STs,\n",
    "\n",
    "After colecting data from 2001 to 2012 for each column I entered in to Second Phase \n",
    "\n",
    "Phase 2 was about Analysis of State/Ut wise for diiferent Crimes and found the States/UT which were prone to crimes and which were less prone to crimes.I USed Different Plots and charts to analyse the dataset .\n",
    "\n",
    "I read the csv file , saved into dataframe and checked for Info(), null value and proccesded accordingly.\n",
    "\n",
    "I came to know about the plotly library in python which made my plots so interactable. Plotted Different Charts, Barplot, Scaaterplots, Line Plots and wrote down my analysis.\n",
    "\n",
    "I also calculatd Crime rate for each state from 2001 to 2012 and\n",
    "\n",
    "Phase 3 is about SQL Opertaion - Insertion into table and then Extacting data as per the query\n",
    "\n",
    "Applied different SQL queries to get the inforamtion. Saved the inforamtion in dataframe and analysed that as well.\n",
    "\n",
    "Pahse 4 is about clustering implementataion as the files that were already given we joined them and made a new dataset nd applied KMEANS algorithm for clustering.Got 3 Cluster - Sensitive, MOderate , Peaceful CLuster and Reason for crimes in Sensitve states and how can we stop that Crimes in those states."
   ]
  },
  {
   "cell_type": "code",
   "execution_count": null,
   "id": "899909da",
   "metadata": {},
   "outputs": [],
   "source": []
  },
  {
   "cell_type": "code",
   "execution_count": null,
   "id": "87e11b3a",
   "metadata": {},
   "outputs": [],
   "source": []
  }
 ],
 "metadata": {
  "kernelspec": {
   "display_name": "Python 3 (ipykernel)",
   "language": "python",
   "name": "python3"
  },
  "language_info": {
   "codemirror_mode": {
    "name": "ipython",
    "version": 3
   },
   "file_extension": ".py",
   "mimetype": "text/x-python",
   "name": "python",
   "nbconvert_exporter": "python",
   "pygments_lexer": "ipython3",
   "version": "3.9.13"
  }
 },
 "nbformat": 4,
 "nbformat_minor": 5
}
